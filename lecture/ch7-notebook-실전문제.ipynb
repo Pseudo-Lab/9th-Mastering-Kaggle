{
 "cells": [
  {
   "cell_type": "markdown",
   "metadata": {},
   "source": [
    "# Welcome to my kernel!"
   ]
  },
  {
   "cell_type": "markdown",
   "metadata": {},
   "source": [
    "This is a small tutorial on various \"Feature Selection & Label Encoding Techniques\". Hope you find it useful."
   ]
  },
  {
   "cell_type": "markdown",
   "metadata": {},
   "source": [
    "Lets start with importing necessary libraries"
   ]
  },
  {
   "cell_type": "code",
   "execution_count": 117,
   "metadata": {
    "_cell_guid": "b1076dfc-b9ad-4769-8c92-a6c4dae69d19",
    "_uuid": "8f2839f25d086af736a60e9eeb907d3b93b6e0e5",
    "execution": {
     "iopub.execute_input": "2024-11-09T06:18:32.596534Z",
     "iopub.status.busy": "2024-11-09T06:18:32.596189Z",
     "iopub.status.idle": "2024-11-09T06:18:32.608508Z",
     "shell.execute_reply": "2024-11-09T06:18:32.607447Z",
     "shell.execute_reply.started": "2024-11-09T06:18:32.596505Z"
    },
    "trusted": true
   },
   "outputs": [],
   "source": [
    "import numpy as np\n",
    "import pandas as pd\n",
    "import matplotlib.pyplot as plt\n",
    "import seaborn as sns\n",
    "from sklearn import preprocessing\n",
    "from sklearn.linear_model import LogisticRegression\n",
    "from sklearn import metrics\n",
    "from sklearn.svm import SVC\n",
    "from sklearn.model_selection import KFold\n",
    "import statsmodels.api as sm\n",
    "from sklearn.metrics import precision_recall_curve\n",
    "import matplotlib.pyplot as plt\n",
    "from sklearn.model_selection import StratifiedKFold\n",
    "from sklearn.model_selection import GridSearchCV\n",
    "from sklearn.model_selection import train_test_split\n",
    "from sklearn.impute import SimpleImputer\n",
    "import tensorflow as tf\n",
    "from sklearn.metrics import roc_auc_score\n",
    "from sklearn.datasets import make_classification\n",
    "from tensorflow.keras.models import Sequential \n",
    "from tensorflow.keras.layers import Dense \n",
    "from tensorflow.keras.callbacks import Callback, EarlyStopping\n",
    "import re\n",
    "from sklearn.impute import KNNImputer\n",
    "from tensorflow.keras import layers\n",
    "from sklearn.feature_selection import VarianceThreshold\n",
    "from sklearn.tree import DecisionTreeClassifier\n",
    "from sklearn.ensemble import RandomForestClassifier\n",
    "from sklearn import metrics\n",
    "import category_encoders as ce\n",
    "from statsmodels.stats.outliers_influence import variance_inflation_factor\n"
   ]
  },
  {
   "cell_type": "code",
   "execution_count": 118,
   "metadata": {
    "_cell_guid": "79c7e3d0-c299-4dcb-8224-4455121ee9b0",
    "_uuid": "d629ff2d2480ee46fbb7e2d37f6b5fab8052498a",
    "execution": {
     "iopub.execute_input": "2024-11-09T06:18:32.610675Z",
     "iopub.status.busy": "2024-11-09T06:18:32.610337Z",
     "iopub.status.idle": "2024-11-09T06:18:36.209256Z",
     "shell.execute_reply": "2024-11-09T06:18:36.208420Z",
     "shell.execute_reply.started": "2024-11-09T06:18:32.610646Z"
    },
    "trusted": true
   },
   "outputs": [],
   "source": [
    "# load the data\n",
    "train_set = pd.read_csv(\"/kaggle/input/cat-in-the-dat-ii/train.csv\")\n",
    "test_set = pd.read_csv(\"/kaggle/input/cat-in-the-dat-ii/test.csv\")\n"
   ]
  },
  {
   "cell_type": "code",
   "execution_count": 119,
   "metadata": {
    "execution": {
     "iopub.execute_input": "2024-11-09T06:18:36.211993Z",
     "iopub.status.busy": "2024-11-09T06:18:36.211599Z",
     "iopub.status.idle": "2024-11-09T06:18:36.243170Z",
     "shell.execute_reply": "2024-11-09T06:18:36.242085Z",
     "shell.execute_reply.started": "2024-11-09T06:18:36.211934Z"
    },
    "trusted": true
   },
   "outputs": [
    {
     "data": {
      "text/html": [
       "<div>\n",
       "<style scoped>\n",
       "    .dataframe tbody tr th:only-of-type {\n",
       "        vertical-align: middle;\n",
       "    }\n",
       "\n",
       "    .dataframe tbody tr th {\n",
       "        vertical-align: top;\n",
       "    }\n",
       "\n",
       "    .dataframe thead th {\n",
       "        text-align: right;\n",
       "    }\n",
       "</style>\n",
       "<table border=\"1\" class=\"dataframe\">\n",
       "  <thead>\n",
       "    <tr style=\"text-align: right;\">\n",
       "      <th></th>\n",
       "      <th>id</th>\n",
       "      <th>bin_0</th>\n",
       "      <th>bin_1</th>\n",
       "      <th>bin_2</th>\n",
       "      <th>bin_3</th>\n",
       "      <th>bin_4</th>\n",
       "      <th>nom_0</th>\n",
       "      <th>nom_1</th>\n",
       "      <th>nom_2</th>\n",
       "      <th>nom_3</th>\n",
       "      <th>...</th>\n",
       "      <th>nom_9</th>\n",
       "      <th>ord_0</th>\n",
       "      <th>ord_1</th>\n",
       "      <th>ord_2</th>\n",
       "      <th>ord_3</th>\n",
       "      <th>ord_4</th>\n",
       "      <th>ord_5</th>\n",
       "      <th>day</th>\n",
       "      <th>month</th>\n",
       "      <th>target</th>\n",
       "    </tr>\n",
       "  </thead>\n",
       "  <tbody>\n",
       "    <tr>\n",
       "      <th>0</th>\n",
       "      <td>0</td>\n",
       "      <td>0.0</td>\n",
       "      <td>0.0</td>\n",
       "      <td>0.0</td>\n",
       "      <td>F</td>\n",
       "      <td>N</td>\n",
       "      <td>Red</td>\n",
       "      <td>Trapezoid</td>\n",
       "      <td>Hamster</td>\n",
       "      <td>Russia</td>\n",
       "      <td>...</td>\n",
       "      <td>02e7c8990</td>\n",
       "      <td>3.0</td>\n",
       "      <td>Contributor</td>\n",
       "      <td>Hot</td>\n",
       "      <td>c</td>\n",
       "      <td>U</td>\n",
       "      <td>Pw</td>\n",
       "      <td>6.0</td>\n",
       "      <td>3.0</td>\n",
       "      <td>0</td>\n",
       "    </tr>\n",
       "    <tr>\n",
       "      <th>1</th>\n",
       "      <td>1</td>\n",
       "      <td>1.0</td>\n",
       "      <td>1.0</td>\n",
       "      <td>0.0</td>\n",
       "      <td>F</td>\n",
       "      <td>Y</td>\n",
       "      <td>Red</td>\n",
       "      <td>Star</td>\n",
       "      <td>Axolotl</td>\n",
       "      <td>NaN</td>\n",
       "      <td>...</td>\n",
       "      <td>f37df64af</td>\n",
       "      <td>3.0</td>\n",
       "      <td>Grandmaster</td>\n",
       "      <td>Warm</td>\n",
       "      <td>e</td>\n",
       "      <td>X</td>\n",
       "      <td>pE</td>\n",
       "      <td>7.0</td>\n",
       "      <td>7.0</td>\n",
       "      <td>0</td>\n",
       "    </tr>\n",
       "    <tr>\n",
       "      <th>2</th>\n",
       "      <td>2</td>\n",
       "      <td>0.0</td>\n",
       "      <td>1.0</td>\n",
       "      <td>0.0</td>\n",
       "      <td>F</td>\n",
       "      <td>N</td>\n",
       "      <td>Red</td>\n",
       "      <td>NaN</td>\n",
       "      <td>Hamster</td>\n",
       "      <td>Canada</td>\n",
       "      <td>...</td>\n",
       "      <td>NaN</td>\n",
       "      <td>3.0</td>\n",
       "      <td>NaN</td>\n",
       "      <td>Freezing</td>\n",
       "      <td>n</td>\n",
       "      <td>P</td>\n",
       "      <td>eN</td>\n",
       "      <td>5.0</td>\n",
       "      <td>9.0</td>\n",
       "      <td>0</td>\n",
       "    </tr>\n",
       "    <tr>\n",
       "      <th>3</th>\n",
       "      <td>3</td>\n",
       "      <td>NaN</td>\n",
       "      <td>0.0</td>\n",
       "      <td>0.0</td>\n",
       "      <td>F</td>\n",
       "      <td>N</td>\n",
       "      <td>Red</td>\n",
       "      <td>Circle</td>\n",
       "      <td>Hamster</td>\n",
       "      <td>Finland</td>\n",
       "      <td>...</td>\n",
       "      <td>f9d456e57</td>\n",
       "      <td>1.0</td>\n",
       "      <td>Novice</td>\n",
       "      <td>Lava Hot</td>\n",
       "      <td>a</td>\n",
       "      <td>C</td>\n",
       "      <td>NaN</td>\n",
       "      <td>3.0</td>\n",
       "      <td>3.0</td>\n",
       "      <td>0</td>\n",
       "    </tr>\n",
       "    <tr>\n",
       "      <th>4</th>\n",
       "      <td>4</td>\n",
       "      <td>0.0</td>\n",
       "      <td>NaN</td>\n",
       "      <td>0.0</td>\n",
       "      <td>T</td>\n",
       "      <td>N</td>\n",
       "      <td>Red</td>\n",
       "      <td>Triangle</td>\n",
       "      <td>Hamster</td>\n",
       "      <td>Costa Rica</td>\n",
       "      <td>...</td>\n",
       "      <td>c5361037c</td>\n",
       "      <td>3.0</td>\n",
       "      <td>Grandmaster</td>\n",
       "      <td>Cold</td>\n",
       "      <td>h</td>\n",
       "      <td>C</td>\n",
       "      <td>OZ</td>\n",
       "      <td>5.0</td>\n",
       "      <td>12.0</td>\n",
       "      <td>0</td>\n",
       "    </tr>\n",
       "  </tbody>\n",
       "</table>\n",
       "<p>5 rows × 25 columns</p>\n",
       "</div>"
      ],
      "text/plain": [
       "   id  bin_0  bin_1  bin_2 bin_3 bin_4 nom_0      nom_1    nom_2       nom_3  \\\n",
       "0   0    0.0    0.0    0.0     F     N   Red  Trapezoid  Hamster      Russia   \n",
       "1   1    1.0    1.0    0.0     F     Y   Red       Star  Axolotl         NaN   \n",
       "2   2    0.0    1.0    0.0     F     N   Red        NaN  Hamster      Canada   \n",
       "3   3    NaN    0.0    0.0     F     N   Red     Circle  Hamster     Finland   \n",
       "4   4    0.0    NaN    0.0     T     N   Red   Triangle  Hamster  Costa Rica   \n",
       "\n",
       "   ...      nom_9 ord_0        ord_1     ord_2 ord_3 ord_4  ord_5  day month  \\\n",
       "0  ...  02e7c8990   3.0  Contributor       Hot     c     U     Pw  6.0   3.0   \n",
       "1  ...  f37df64af   3.0  Grandmaster      Warm     e     X     pE  7.0   7.0   \n",
       "2  ...        NaN   3.0          NaN  Freezing     n     P     eN  5.0   9.0   \n",
       "3  ...  f9d456e57   1.0       Novice  Lava Hot     a     C    NaN  3.0   3.0   \n",
       "4  ...  c5361037c   3.0  Grandmaster      Cold     h     C     OZ  5.0  12.0   \n",
       "\n",
       "  target  \n",
       "0      0  \n",
       "1      0  \n",
       "2      0  \n",
       "3      0  \n",
       "4      0  \n",
       "\n",
       "[5 rows x 25 columns]"
      ]
     },
     "execution_count": 119,
     "metadata": {},
     "output_type": "execute_result"
    }
   ],
   "source": [
    "# check the training set\n",
    "train_set.head()"
   ]
  },
  {
   "cell_type": "markdown",
   "metadata": {},
   "source": [
    "Given dataset contains Numeric as well as Categorical Variables.\n",
    "\n",
    "Following kind of categorical variabels are present in the dataset:\n",
    "1. Binary Variables - values like Male & Female\n",
    "2. Ordinal Variables (low and high cardinality) - ordered values like \"Good\" \"V Good\" \"Excellent\"\n",
    "3. Nominal Variables (low and high cardinality) - do not have any intrinsic order, values like blood groups \"A\" \"B\" etc\n"
   ]
  },
  {
   "cell_type": "code",
   "execution_count": 120,
   "metadata": {
    "execution": {
     "iopub.execute_input": "2024-11-09T06:18:36.246611Z",
     "iopub.status.busy": "2024-11-09T06:18:36.246138Z",
     "iopub.status.idle": "2024-11-09T06:18:36.254565Z",
     "shell.execute_reply": "2024-11-09T06:18:36.253739Z",
     "shell.execute_reply.started": "2024-11-09T06:18:36.246567Z"
    },
    "trusted": true
   },
   "outputs": [],
   "source": [
    "# column 전체를 수치형 변수와 문자형 변수로 분류하기 (추후 feature scaling을 수치형 변수에 대해 취해주기 위함)\n",
    "cat_vars = []\n",
    "num_vars = []\n",
    "for col in train_set:\n",
    "    if train_set[col].dtypes == 'O': # 문자형 (object) 타입의 변수이면 cat_vars 안에 넣어라\n",
    "        cat_vars.append(col)\n",
    "    else:\n",
    "        num_vars.append(col)\n",
    "\n",
    "# removing id and target from the list # id와 target은 feature scaling하지 않을 것이므로 제외\n",
    "num_vars.remove(\"id\")\n",
    "num_vars.remove(\"target\")"
   ]
  },
  {
   "cell_type": "code",
   "execution_count": 121,
   "metadata": {
    "execution": {
     "iopub.execute_input": "2024-11-09T06:18:36.256184Z",
     "iopub.status.busy": "2024-11-09T06:18:36.255846Z",
     "iopub.status.idle": "2024-11-09T06:18:36.264610Z",
     "shell.execute_reply": "2024-11-09T06:18:36.263750Z",
     "shell.execute_reply.started": "2024-11-09T06:18:36.256156Z"
    },
    "trusted": true
   },
   "outputs": [],
   "source": [
    "# lets further segregate categorical variables in ordinal, nominal,binary and date variables\n",
    "bin_vars = ['bin_0', 'bin_1', 'bin_2', 'bin_3', 'bin_4']\n",
    "ord_vars = ['ord_0', 'ord_1', 'ord_2', 'ord_3', 'ord_4', 'ord_5'] \n",
    "nom_vars = ['nom_0','nom_1','nom_2','nom_3', 'nom_4', 'nom_5', 'nom_6', 'nom_7', 'nom_8', 'nom_9']\n",
    "dat_vars = ['day','month']"
   ]
  },
  {
   "cell_type": "code",
   "execution_count": 122,
   "metadata": {
    "execution": {
     "iopub.execute_input": "2024-11-09T06:18:36.266156Z",
     "iopub.status.busy": "2024-11-09T06:18:36.265839Z",
     "iopub.status.idle": "2024-11-09T06:18:37.837921Z",
     "shell.execute_reply": "2024-11-09T06:18:37.837179Z",
     "shell.execute_reply.started": "2024-11-09T06:18:36.266128Z"
    },
    "trusted": true
   },
   "outputs": [
    {
     "data": {
      "text/plain": [
       "(1000000, 23)"
      ]
     },
     "execution_count": 122,
     "metadata": {},
     "output_type": "execute_result"
    }
   ],
   "source": [
    "# lets save training and test set \"id\"s for future use\n",
    "#train_set_id = train_set.id\n",
    "import copy\n",
    "\n",
    "test_set_id = copy.deepcopy(test_set['id'])\n",
    "\n",
    "# save training set target \n",
    "train_set_target = train_set.target\n",
    "\n",
    "# lets drop targe and ids\n",
    "train_set.drop([\"id\",\"target\"],1,inplace= True)\n",
    "test_set.drop(\"id\",1,inplace= True)\n",
    "\n",
    "#데이터 전처리를 한꺼번에 수행하기 위해 train & test 합치\n",
    "master=pd.concat((train_set,test_set)).reset_index(drop=True)\n",
    "master.shape"
   ]
  },
  {
   "cell_type": "code",
   "execution_count": 123,
   "metadata": {
    "execution": {
     "iopub.execute_input": "2024-11-09T06:18:37.839467Z",
     "iopub.status.busy": "2024-11-09T06:18:37.839191Z",
     "iopub.status.idle": "2024-11-09T06:18:49.877043Z",
     "shell.execute_reply": "2024-11-09T06:18:49.876066Z",
     "shell.execute_reply.started": "2024-11-09T06:18:37.839439Z"
    },
    "trusted": true
   },
   "outputs": [
    {
     "name": "stdout",
     "output_type": "stream",
     "text": [
      "bin_0 have 17894 null values\n",
      "bin_1 have 18003 null values\n",
      "bin_2 have 17930 null values\n",
      "bin_3 have 18014 null values\n",
      "bin_4 have 18047 null values\n",
      "nom_0 have 18252 null values\n",
      "nom_1 have 18156 null values\n",
      "nom_2 have 18035 null values\n",
      "nom_3 have 18121 null values\n",
      "nom_4 have 18035 null values\n",
      "nom_5 have 17778 null values\n",
      "nom_6 have 18131 null values\n",
      "nom_7 have 18003 null values\n",
      "nom_8 have 17755 null values\n",
      "nom_9 have 18073 null values\n",
      "ord_0 have 18288 null values\n",
      "ord_1 have 18041 null values\n",
      "ord_2 have 18075 null values\n",
      "ord_3 have 17916 null values\n",
      "ord_4 have 17930 null values\n",
      "ord_5 have 17713 null values\n",
      "day have 17952 null values\n",
      "month have 17988 null values\n"
     ]
    },
    {
     "data": {
      "image/png": "[encoded data removed]",
      "text/plain": [
       "<Figure size 432x288 with 1 Axes>"
      ]
     },
     "metadata": {
      "needs_background": "light"
     },
     "output_type": "display_data"
    }
   ],
   "source": [
    "# Let's display the variables having null values\n",
    "null_cols = []\n",
    "for col in train_set.columns:\n",
    "    if train_set[col].isnull().sum() > 0 :\n",
    "        print('%s %s %d %s' %(col,\"have\",train_set[col].isnull().sum(),\"null values\"))    \n",
    "        null_cols.append(col)\n",
    "\n",
    "# 결측값 패턴 시각화\n",
    "sns.heatmap(train_set.isnull(), cbar=False, cmap=\"viridis\")\n",
    "plt.title(\"NaN Pattern of train\")\n",
    "plt.show()"
   ]
  },
  {
   "cell_type": "code",
   "execution_count": 124,
   "metadata": {
    "execution": {
     "iopub.execute_input": "2024-11-09T06:18:49.878491Z",
     "iopub.status.busy": "2024-11-09T06:18:49.878205Z",
     "iopub.status.idle": "2024-11-09T06:18:56.876494Z",
     "shell.execute_reply": "2024-11-09T06:18:56.875550Z",
     "shell.execute_reply.started": "2024-11-09T06:18:49.878463Z"
    },
    "trusted": true
   },
   "outputs": [
    {
     "data": {
      "image/png": "[encoded data removed]",
      "text/plain": [
       "<Figure size 432x288 with 1 Axes>"
      ]
     },
     "metadata": {
      "needs_background": "light"
     },
     "output_type": "display_data"
    }
   ],
   "source": [
    "# 결측값 패턴 시각화\n",
    "sns.heatmap(test_set.isnull(), cbar=False, cmap=\"viridis\")\n",
    "plt.title(\"NaN Pattern of test\")\n",
    "plt.show()"
   ]
  },
  {
   "cell_type": "markdown",
   "metadata": {},
   "source": [
    "# Null Value Treatment"
   ]
  },
  {
   "cell_type": "markdown",
   "metadata": {},
   "source": [
    "We will check the data only in the training set but will apply changes on the master dataset, why we are doing this?\n",
    "because we dont want to look at the test data before feeding it into the model"
   ]
  },
  {
   "cell_type": "code",
   "execution_count": 125,
   "metadata": {
    "execution": {
     "iopub.execute_input": "2024-11-09T06:18:56.878195Z",
     "iopub.status.busy": "2024-11-09T06:18:56.877812Z",
     "iopub.status.idle": "2024-11-09T06:18:57.147516Z",
     "shell.execute_reply": "2024-11-09T06:18:57.146687Z",
     "shell.execute_reply.started": "2024-11-09T06:18:56.878151Z"
    },
    "trusted": true
   },
   "outputs": [
    {
     "name": "stdout",
     "output_type": "stream",
     "text": [
      "bin_0 :\n",
      " 0.0    528377\n",
      "1.0     53729\n",
      "Name: bin_0, dtype: int64 \n",
      "\n",
      "bin_1 :\n",
      " 0.0    474018\n",
      "1.0    107979\n",
      "Name: bin_1, dtype: int64 \n",
      "\n",
      "bin_2 :\n",
      " 0.0    419845\n",
      "1.0    162225\n",
      "Name: bin_2, dtype: int64 \n",
      "\n",
      "bin_3 :\n",
      " F    366212\n",
      "T    215774\n",
      "Name: bin_3, dtype: int64 \n",
      "\n",
      "bin_4 :\n",
      " N    312344\n",
      "Y    269609\n",
      "Name: bin_4, dtype: int64 \n",
      "\n"
     ]
    }
   ],
   "source": [
    "# binary 피쳐들의 구성을 보자 (최빈값을 찾아서 결측치를 메꾸기 위함)\n",
    "for col in bin_vars:\n",
    "    print(col, \":\\n\",train_set[col].value_counts(),\"\\n\")"
   ]
  },
  {
   "cell_type": "code",
   "execution_count": 126,
   "metadata": {
    "execution": {
     "iopub.execute_input": "2024-11-09T06:18:57.148846Z",
     "iopub.status.busy": "2024-11-09T06:18:57.148597Z",
     "iopub.status.idle": "2024-11-09T06:18:57.399550Z",
     "shell.execute_reply": "2024-11-09T06:18:57.398724Z",
     "shell.execute_reply.started": "2024-11-09T06:18:57.148820Z"
    },
    "trusted": true
   },
   "outputs": [],
   "source": [
    "# bin_0~2는 최빈값이 0이므로 결측치를 0으로 채우자\n",
    "master[['bin_0','bin_1','bin_2']] = master[['bin_0','bin_1','bin_2']].replace(np.nan, 0.0)\n",
    "\n",
    "# missing values in bin_3 can be replaced with \"F\" (F가 최빈값)\n",
    "master['bin_3'] = master['bin_3'].replace(np.nan, \"F\")\n",
    "\n",
    "# missing values in bin_4 can be replaced with \"N\" (N이 최빈값)\n",
    "master['bin_4'] = master['bin_4'].replace(np.nan, \"N\")"
   ]
  },
  {
   "cell_type": "code",
   "execution_count": 127,
   "metadata": {
    "execution": {
     "iopub.execute_input": "2024-11-09T06:18:57.401377Z",
     "iopub.status.busy": "2024-11-09T06:18:57.400945Z",
     "iopub.status.idle": "2024-11-09T06:18:58.071949Z",
     "shell.execute_reply": "2024-11-09T06:18:58.071180Z",
     "shell.execute_reply.started": "2024-11-09T06:18:57.401339Z"
    },
    "trusted": true
   },
   "outputs": [
    {
     "name": "stdout",
     "output_type": "stream",
     "text": [
      "ord_0 : 1.0    227917\n",
      "3.0    197798\n",
      "2.0    155997\n",
      "Name: ord_0, dtype: int64 \n",
      "\n",
      "ord_1 : Novice         160597\n",
      "Expert         139677\n",
      "Contributor    109821\n",
      "Grandmaster     95866\n",
      "Master          75998\n",
      "Name: ord_1, dtype: int64 \n",
      "\n",
      "ord_2 : Freezing       142726\n",
      "Warm           124239\n",
      "Cold            97822\n",
      "Boiling Hot     84790\n",
      "Hot             67508\n",
      "Lava Hot        64840\n",
      "Name: ord_2, dtype: int64 \n",
      "\n",
      "ord_3 : n    70982\n",
      "a    65321\n",
      "m    57980\n",
      "c    56675\n",
      "h    55744\n",
      "o    45464\n",
      "b    44795\n",
      "e    38904\n",
      "k    38718\n",
      "i    34763\n",
      "d    30634\n",
      "f    29450\n",
      "g     6180\n",
      "j     3639\n",
      "l     2835\n",
      "Name: ord_3, dtype: int64 \n",
      "\n",
      "ord_4 : N    39978\n",
      "P    37890\n",
      "Y    36657\n",
      "A    36633\n",
      "R    33045\n",
      "U    32897\n",
      "M    32504\n",
      "X    32347\n",
      "C    32112\n",
      "H    31189\n",
      "Q    30145\n",
      "T    29723\n",
      "O    25610\n",
      "B    25212\n",
      "E    21871\n",
      "K    21676\n",
      "I    19805\n",
      "D    17284\n",
      "F    16721\n",
      "W     8268\n",
      "Z     5790\n",
      "S     4595\n",
      "G     3404\n",
      "V     3107\n",
      "J     1950\n",
      "L     1657\n",
      "Name: ord_4, dtype: int64 \n",
      "\n",
      "ord_5 : Fl    10562\n",
      "DN     9527\n",
      "Sz     8654\n",
      "RV     5648\n",
      "oJ     5596\n",
      "      ...  \n",
      "vw      189\n",
      "gV      124\n",
      "vQ      120\n",
      "eA       91\n",
      "Zv       87\n",
      "Name: ord_5, Length: 190, dtype: int64 \n",
      "\n"
     ]
    }
   ],
   "source": [
    "# lets take a look at the ordinal variables\n",
    "for col in ord_vars:\n",
    "    print(col, \":\",train_set[col].value_counts(),'\\n')"
   ]
  },
  {
   "cell_type": "code",
   "execution_count": 128,
   "metadata": {
    "execution": {
     "iopub.execute_input": "2024-11-09T06:18:58.078234Z",
     "iopub.status.busy": "2024-11-09T06:18:58.077935Z",
     "iopub.status.idle": "2024-11-09T06:18:58.790486Z",
     "shell.execute_reply": "2024-11-09T06:18:58.789644Z",
     "shell.execute_reply.started": "2024-11-09T06:18:58.078205Z"
    },
    "trusted": true
   },
   "outputs": [],
   "source": [
    "# 순서형 피처의 분포는 값이 골고루 분포되어 있으므로 결측치는 'missing'이라는 문자열로 대체\n",
    "master[ord_vars] = master[ord_vars].replace(np.nan,\"missing\")\n"
   ]
  },
  {
   "cell_type": "code",
   "execution_count": 129,
   "metadata": {
    "execution": {
     "iopub.execute_input": "2024-11-09T06:18:58.792300Z",
     "iopub.status.busy": "2024-11-09T06:18:58.792038Z",
     "iopub.status.idle": "2024-11-09T06:19:00.206929Z",
     "shell.execute_reply": "2024-11-09T06:19:00.206177Z",
     "shell.execute_reply.started": "2024-11-09T06:18:58.792274Z"
    },
    "trusted": true
   },
   "outputs": [
    {
     "name": "stdout",
     "output_type": "stream",
     "text": [
      "nom_0 : Red      323286\n",
      "Blue     205861\n",
      "Green     52601\n",
      "Name: nom_0, dtype: int64 \n",
      "\n",
      "nom_1 : Triangle     164190\n",
      "Polygon      152563\n",
      "Trapezoid    119438\n",
      "Circle       104995\n",
      "Square        26503\n",
      "Star          14155\n",
      "Name: nom_1, dtype: int64 \n",
      "\n",
      "nom_2 : Hamster    164897\n",
      "Axolotl    152319\n",
      "Lion       119504\n",
      "Dog        104825\n",
      "Cat         26276\n",
      "Snake       14144\n",
      "Name: nom_2, dtype: int64 \n",
      "\n",
      "nom_3 : India         164869\n",
      "Costa Rica    151827\n",
      "Russia        119840\n",
      "Finland       104601\n",
      "Canada         26425\n",
      "China          14317\n",
      "Name: nom_3, dtype: int64 \n",
      "\n",
      "nom_4 : Theremin    308621\n",
      "Bassoon     196639\n",
      "Oboe         49996\n",
      "Piano        26709\n",
      "Name: nom_4, dtype: int64 \n",
      "\n",
      "nom_5 : fc8fc7e56    977\n",
      "360a16627    972\n",
      "7917d446c    961\n",
      "423976253    961\n",
      "079b76328    960\n",
      "            ... \n",
      "7335087fd      5\n",
      "30019ce8a      3\n",
      "b3ad70fcb      1\n",
      "d6bb2181a      1\n",
      "0385d0739      1\n",
      "Name: nom_5, Length: 1220, dtype: int64 \n",
      "\n",
      "nom_6 : ea8c5e181    805\n",
      "9fa481341    798\n",
      "2b94ada45    792\n",
      "32e9bd1ff    788\n",
      "b88220966    781\n",
      "            ... \n",
      "f7c893813      4\n",
      "322548bed      3\n",
      "b4b8de4b9      2\n",
      "d6ea07c05      2\n",
      "3a121fefb      1\n",
      "Name: nom_6, Length: 1519, dtype: int64 \n",
      "\n",
      "nom_7 : 4ae48e857    5035\n",
      "c79d2197d    5031\n",
      "86ec768cd    4961\n",
      "a7059911d    4945\n",
      "41901460a    4934\n",
      "             ... \n",
      "b39008216     195\n",
      "1828818ab     182\n",
      "75d0e3ef8     157\n",
      "deec583dd      93\n",
      "e9c57c4aa      79\n",
      "Name: nom_7, Length: 222, dtype: int64 \n",
      "\n",
      "nom_8 : 7d7c02c57    5052\n",
      "15f03b1f4    4994\n",
      "5859a8a06    4989\n",
      "d7e75499d    4987\n",
      "158183c63    4966\n",
      "             ... \n",
      "8d31d1ab3     207\n",
      "4584d6fcd     174\n",
      "607c26084     149\n",
      "115d9fd8b     105\n",
      "6492aecc3      61\n",
      "Name: nom_8, Length: 222, dtype: int64 \n",
      "\n",
      "nom_9 : 8f3276a6e    565\n",
      "65b262989    564\n",
      "c5361037c    560\n",
      "9bc905a9d    558\n",
      "01a1a04c5    557\n",
      "            ... \n",
      "1538d82e9      2\n",
      "978258393      2\n",
      "3d19cd31d      2\n",
      "5f565a682      1\n",
      "d1e6704ed      1\n",
      "Name: nom_9, Length: 2218, dtype: int64 \n",
      "\n"
     ]
    }
   ],
   "source": [
    "# 명목형 피처의 구성을 보자\n",
    "for col in nom_vars:\n",
    "    print(col, \":\",train_set[col].value_counts(), '\\n')"
   ]
  },
  {
   "cell_type": "code",
   "execution_count": 130,
   "metadata": {
    "execution": {
     "iopub.execute_input": "2024-11-09T06:19:00.208453Z",
     "iopub.status.busy": "2024-11-09T06:19:00.208187Z",
     "iopub.status.idle": "2024-11-09T06:19:02.034207Z",
     "shell.execute_reply": "2024-11-09T06:19:02.033447Z",
     "shell.execute_reply.started": "2024-11-09T06:19:00.208428Z"
    },
    "trusted": true
   },
   "outputs": [],
   "source": [
    "# \"Red\" is most frequent value for nom_0 variable, lets replace missing values with \"Red\"\n",
    "master['nom_0'] = master['nom_0'].replace(np.nan,\"Red\")\n",
    "\n",
    "# \"Theremin\" is most frequent value for nom_0 variable, lets replace missing values with \"Theremin\"\n",
    "master['nom_4'] = master['nom_4'].replace(np.nan,\"Theremin\")\n",
    "\n",
    "# 다른 명목형 피처는 뚜렷하게 많은 수의 값이 있진 않으므로 결측치는 'missing'이란 값으로 대체한다\n",
    "master[['nom_1','nom_2','nom_3','nom_5','nom_6','nom_7','nom_8','nom_9']] = master[['nom_1','nom_2','nom_3','nom_5','nom_6','nom_7','nom_8','nom_9']].replace(np.nan,\"missing\")"
   ]
  },
  {
   "cell_type": "code",
   "execution_count": 131,
   "metadata": {
    "execution": {
     "iopub.execute_input": "2024-11-09T06:19:02.035842Z",
     "iopub.status.busy": "2024-11-09T06:19:02.035475Z",
     "iopub.status.idle": "2024-11-09T06:19:02.062173Z",
     "shell.execute_reply": "2024-11-09T06:19:02.061412Z",
     "shell.execute_reply.started": "2024-11-09T06:19:02.035806Z"
    },
    "trusted": true
   },
   "outputs": [
    {
     "name": "stdout",
     "output_type": "stream",
     "text": [
      "day : 3.0    113835\n",
      "5.0    110464\n",
      "6.0     97432\n",
      "7.0     86435\n",
      "1.0     84724\n",
      "2.0     65495\n",
      "4.0     23663\n",
      "Name: day, dtype: int64 \n",
      "\n",
      "month : 8.0     79245\n",
      "3.0     70160\n",
      "5.0     68906\n",
      "12.0    68340\n",
      "6.0     60478\n",
      "7.0     53480\n",
      "1.0     52154\n",
      "11.0    51165\n",
      "2.0     40700\n",
      "9.0     20620\n",
      "4.0     14614\n",
      "10.0     2150\n",
      "Name: month, dtype: int64 \n",
      "\n"
     ]
    }
   ],
   "source": [
    "# 날짜 피처의 구성을 보자\n",
    "for col in dat_vars:\n",
    "    print(col, \":\",train_set[col].value_counts(), '\\n')"
   ]
  },
  {
   "cell_type": "code",
   "execution_count": 132,
   "metadata": {
    "execution": {
     "iopub.execute_input": "2024-11-09T06:19:02.063726Z",
     "iopub.status.busy": "2024-11-09T06:19:02.063431Z",
     "iopub.status.idle": "2024-11-09T06:19:02.089141Z",
     "shell.execute_reply": "2024-11-09T06:19:02.088298Z",
     "shell.execute_reply.started": "2024-11-09T06:19:02.063696Z"
    },
    "trusted": true
   },
   "outputs": [],
   "source": [
    "# 날짜피처는 두드러지게 많은 특정 값이 있진 않으므로 결측치는 0으로 대체하자 (리스트에 없는 값)\n",
    "master[dat_vars] = master[dat_vars].replace(np.nan,0.0)"
   ]
  },
  {
   "cell_type": "code",
   "execution_count": 133,
   "metadata": {
    "execution": {
     "iopub.execute_input": "2024-11-09T06:19:02.090515Z",
     "iopub.status.busy": "2024-11-09T06:19:02.090244Z",
     "iopub.status.idle": "2024-11-09T06:19:03.707761Z",
     "shell.execute_reply": "2024-11-09T06:19:03.706725Z",
     "shell.execute_reply.started": "2024-11-09T06:19:02.090488Z"
    },
    "trusted": true
   },
   "outputs": [
    {
     "data": {
      "text/plain": [
       "bin_0    0\n",
       "bin_1    0\n",
       "bin_2    0\n",
       "bin_3    0\n",
       "bin_4    0\n",
       "nom_0    0\n",
       "nom_1    0\n",
       "nom_2    0\n",
       "nom_3    0\n",
       "nom_4    0\n",
       "nom_5    0\n",
       "nom_6    0\n",
       "nom_7    0\n",
       "nom_8    0\n",
       "nom_9    0\n",
       "ord_0    0\n",
       "ord_1    0\n",
       "ord_2    0\n",
       "ord_3    0\n",
       "ord_4    0\n",
       "ord_5    0\n",
       "day      0\n",
       "month    0\n",
       "dtype: int64"
      ]
     },
     "execution_count": 133,
     "metadata": {},
     "output_type": "execute_result"
    }
   ],
   "source": [
    "# lets confirm if there are any missing values leftr\n",
    "master.isnull().sum()"
   ]
  },
  {
   "cell_type": "markdown",
   "metadata": {},
   "source": [
    "No Null values left, good!"
   ]
  },
  {
   "cell_type": "markdown",
   "metadata": {},
   "source": [
    "# Handling Categorical Variables\n",
    "As stated above, we have different kind of categorical variabels present in the dataset. We would apply different kind of encoding techniques on them:\n",
    "\n",
    "1. Binary Variables                     - will be replaced by 0 and 1\n",
    "2. Ordinal Variables (low cardinality)  - will apply Label Encoding\n",
    "3. Ordinal Variables (high cardinality) - will apply Label Encoding\n",
    "4. Nominal Variables (low cardinality)  - will apply One Hot Encodihng\n",
    "5. Nominal Variables (high cardinality) - will apply Hashing Encoding"
   ]
  },
  {
   "attachments": {
    "8ec8a847-0daf-45c1-a9ff-ba240de0372b.png": {
     "image/png": "[encoded data removed]"
    }
   },
   "cell_type": "markdown",
   "metadata": {},
   "source": [
    "![image.png](attachment:8ec8a847-0daf-45c1-a9ff-ba240de0372b.png)"
   ]
  },
  {
   "cell_type": "markdown",
   "metadata": {},
   "source": [
    "## 해쉬 인코딩이란? \n",
    "- 해시 함수를 활용해서 텍스트 데이터를 고정된 크기의 벡터를 변환하는 방법을 말합니다. 주로 대규모 텍스트 데이터를 인코딩할 때 사용됩니다.\n",
    "출처: https://jaylala.tistory.com/entry/개념정리 [Innov_AI_te:티스토리]"
   ]
  },
  {
   "cell_type": "code",
   "execution_count": 134,
   "metadata": {
    "execution": {
     "iopub.execute_input": "2024-11-09T06:19:03.709547Z",
     "iopub.status.busy": "2024-11-09T06:19:03.709146Z",
     "iopub.status.idle": "2024-11-09T06:19:04.436841Z",
     "shell.execute_reply": "2024-11-09T06:19:04.435919Z",
     "shell.execute_reply.started": "2024-11-09T06:19:03.709508Z"
    },
    "trusted": true
   },
   "outputs": [],
   "source": [
    "# lets encode binary variables\n",
    "\n",
    "master['bin_3'] = master['bin_3'].map({'F': 1, 'T': 0})\n",
    "\n",
    "master['bin_4'] = master['bin_4'].map({'Y': 1, 'N': 0})"
   ]
  },
  {
   "cell_type": "code",
   "execution_count": null,
   "metadata": {
    "execution": {
     "iopub.execute_input": "2024-11-09T06:19:04.438450Z",
     "iopub.status.busy": "2024-11-09T06:19:04.438141Z",
     "iopub.status.idle": "2024-11-09T06:19:08.994423Z",
     "shell.execute_reply": "2024-11-09T06:19:08.993609Z",
     "shell.execute_reply.started": "2024-11-09T06:19:04.438414Z"
    },
    "trusted": true
   },
   "outputs": [],
   "source": [
    "# 순서형 피처에는 라벨인코딩을 적용하자\n",
    "# 라벨 인코딩을 할 때 기본적으로 LabelEncoder는 알파벳 순서대로 데이터를 인코딩\n",
    "lbl = preprocessing.LabelEncoder()\n",
    "for col in ord_vars:\n",
    "    master[col] = lbl.fit_transform(master[col].astype(str).values)"
   ]
  },
  {
   "cell_type": "code",
   "execution_count": 136,
   "metadata": {
    "execution": {
     "iopub.execute_input": "2024-11-09T06:19:08.995928Z",
     "iopub.status.busy": "2024-11-09T06:19:08.995644Z",
     "iopub.status.idle": "2024-11-09T06:19:09.636235Z",
     "shell.execute_reply": "2024-11-09T06:19:09.635535Z",
     "shell.execute_reply.started": "2024-11-09T06:19:08.995899Z"
    },
    "trusted": true
   },
   "outputs": [],
   "source": [
    "# 명목형 피처를 저차원과 고차원으로 나누자\n",
    "low_card_nom_vars = []\n",
    "high_card_nom_vars = []\n",
    "\n",
    "for col in nom_vars:\n",
    "    if train_set[col].nunique()>10:\n",
    "        high_card_nom_vars.append(col)\n",
    "    else:\n",
    "        low_card_nom_vars.append(col)"
   ]
  },
  {
   "cell_type": "code",
   "execution_count": 137,
   "metadata": {
    "execution": {
     "iopub.execute_input": "2024-11-09T06:19:09.637521Z",
     "iopub.status.busy": "2024-11-09T06:19:09.637271Z",
     "iopub.status.idle": "2024-11-09T06:19:09.642777Z",
     "shell.execute_reply": "2024-11-09T06:19:09.642061Z",
     "shell.execute_reply.started": "2024-11-09T06:19:09.637495Z"
    },
    "trusted": true
   },
   "outputs": [
    {
     "data": {
      "text/plain": [
       "(['nom_0', 'nom_1', 'nom_2', 'nom_3', 'nom_4'],\n",
       " ['nom_5', 'nom_6', 'nom_7', 'nom_8', 'nom_9'])"
      ]
     },
     "execution_count": 137,
     "metadata": {},
     "output_type": "execute_result"
    }
   ],
   "source": [
    "# lets take a quick look at the lists created\n",
    "low_card_nom_vars, high_card_nom_vars"
   ]
  },
  {
   "cell_type": "code",
   "execution_count": 138,
   "metadata": {
    "execution": {
     "iopub.execute_input": "2024-11-09T06:19:09.644531Z",
     "iopub.status.busy": "2024-11-09T06:19:09.644210Z",
     "iopub.status.idle": "2024-11-09T06:19:10.581504Z",
     "shell.execute_reply": "2024-11-09T06:19:10.580560Z",
     "shell.execute_reply.started": "2024-11-09T06:19:09.644479Z"
    },
    "trusted": true
   },
   "outputs": [],
   "source": [
    "# low_card_nom_vars 리스트에 포함된 저차원 명목형 변수들을 원-핫 인코딩\n",
    "dummies = pd.get_dummies(master[low_card_nom_vars], drop_first=True)\n",
    "\n",
    "# 원본 데이터프레임(master)에 더미 변수들(인코딩 결과)을 추가\n",
    "master = pd.concat([master, dummies], axis=1)\n",
    "\n",
    "# 더미 변수로 대체된 원래 명목형 변수를 master에서 삭제\n",
    "master.drop(low_card_nom_vars,1,inplace = True)"
   ]
  },
  {
   "cell_type": "code",
   "execution_count": 139,
   "metadata": {
    "execution": {
     "iopub.execute_input": "2024-11-09T06:19:10.583018Z",
     "iopub.status.busy": "2024-11-09T06:19:10.582724Z",
     "iopub.status.idle": "2024-11-09T06:27:51.903803Z",
     "shell.execute_reply": "2024-11-09T06:27:51.902717Z",
     "shell.execute_reply.started": "2024-11-09T06:19:10.582988Z"
    },
    "trusted": true
   },
   "outputs": [],
   "source": [
    "# 고차원 명목형 변수들은 해쉬 인코딩 하자\n",
    "ce_hash = ce.HashingEncoder(cols = high_card_nom_vars)\n",
    "master = ce_hash.fit_transform(master)"
   ]
  },
  {
   "cell_type": "code",
   "execution_count": 140,
   "metadata": {
    "execution": {
     "iopub.execute_input": "2024-11-09T06:27:51.906171Z",
     "iopub.status.busy": "2024-11-09T06:27:51.905760Z",
     "iopub.status.idle": "2024-11-09T06:27:51.914886Z",
     "shell.execute_reply": "2024-11-09T06:27:51.913862Z",
     "shell.execute_reply.started": "2024-11-09T06:27:51.906126Z"
    },
    "trusted": true
   },
   "outputs": [
    {
     "data": {
      "text/plain": [
       "Index(['col_0', 'col_1', 'col_2', 'col_3', 'col_4', 'col_5', 'col_6', 'col_7',\n",
       "       'bin_0', 'bin_1', 'bin_2', 'bin_3', 'bin_4', 'ord_0', 'ord_1', 'ord_2',\n",
       "       'ord_3', 'ord_4', 'ord_5', 'day', 'month', 'nom_0_Green', 'nom_0_Red',\n",
       "       'nom_1_Polygon', 'nom_1_Square', 'nom_1_Star', 'nom_1_Trapezoid',\n",
       "       'nom_1_Triangle', 'nom_1_missing', 'nom_2_Cat', 'nom_2_Dog',\n",
       "       'nom_2_Hamster', 'nom_2_Lion', 'nom_2_Snake', 'nom_2_missing',\n",
       "       'nom_3_China', 'nom_3_Costa Rica', 'nom_3_Finland', 'nom_3_India',\n",
       "       'nom_3_Russia', 'nom_3_missing', 'nom_4_Oboe', 'nom_4_Piano',\n",
       "       'nom_4_Theremin'],\n",
       "      dtype='object')"
      ]
     },
     "execution_count": 140,
     "metadata": {},
     "output_type": "execute_result"
    }
   ],
   "source": [
    "master.columns"
   ]
  },
  {
   "cell_type": "code",
   "execution_count": 141,
   "metadata": {
    "execution": {
     "iopub.execute_input": "2024-11-09T06:27:51.916434Z",
     "iopub.status.busy": "2024-11-09T06:27:51.916065Z",
     "iopub.status.idle": "2024-11-09T06:27:51.925070Z",
     "shell.execute_reply": "2024-11-09T06:27:51.924264Z",
     "shell.execute_reply.started": "2024-11-09T06:27:51.916405Z"
    },
    "trusted": true
   },
   "outputs": [
    {
     "data": {
      "text/plain": [
       "(1000000, 44)"
      ]
     },
     "execution_count": 141,
     "metadata": {},
     "output_type": "execute_result"
    }
   ],
   "source": [
    "master.shape\n"
   ]
  },
  {
   "cell_type": "code",
   "execution_count": 142,
   "metadata": {
    "execution": {
     "iopub.execute_input": "2024-11-09T06:27:51.926579Z",
     "iopub.status.busy": "2024-11-09T06:27:51.926263Z",
     "iopub.status.idle": "2024-11-09T06:27:52.092399Z",
     "shell.execute_reply": "2024-11-09T06:27:52.091514Z",
     "shell.execute_reply.started": "2024-11-09T06:27:51.926551Z"
    },
    "trusted": true
   },
   "outputs": [
    {
     "data": {
      "text/plain": [
       "((600000, 44), (400000, 44))"
      ]
     },
     "execution_count": 142,
     "metadata": {},
     "output_type": "execute_result"
    }
   ],
   "source": [
    "# 데이터 전처리는 끝났으니 train / test 다시 분리\n",
    "\n",
    "train_set = master[:train_set.shape[0]]\n",
    "\n",
    "test_set = master[train_set.shape[0]:]\n",
    "\n",
    "# lets confirm the shape of train and test datasets\n",
    "train_set.shape, test_set.shape"
   ]
  },
  {
   "cell_type": "markdown",
   "metadata": {},
   "source": [
    "# Feature Scaling"
   ]
  },
  {
   "cell_type": "code",
   "execution_count": 143,
   "metadata": {
    "execution": {
     "iopub.execute_input": "2024-11-09T06:27:52.093944Z",
     "iopub.status.busy": "2024-11-09T06:27:52.093666Z",
     "iopub.status.idle": "2024-11-09T06:27:53.878026Z",
     "shell.execute_reply": "2024-11-09T06:27:53.877353Z",
     "shell.execute_reply.started": "2024-11-09T06:27:52.093916Z"
    },
    "trusted": true
   },
   "outputs": [
    {
     "name": "stderr",
     "output_type": "stream",
     "text": [
      "/opt/conda/lib/python3.7/site-packages/ipykernel_launcher.py:5: SettingWithCopyWarning: \n",
      "A value is trying to be set on a copy of a slice from a DataFrame.\n",
      "Try using .loc[row_indexer,col_indexer] = value instead\n",
      "\n",
      "See the caveats in the documentation: https://pandas.pydata.org/pandas-docs/stable/user_guide/indexing.html#returning-a-view-versus-a-copy\n",
      "  \"\"\"\n",
      "/opt/conda/lib/python3.7/site-packages/pandas/core/indexing.py:966: SettingWithCopyWarning: \n",
      "A value is trying to be set on a copy of a slice from a DataFrame.\n",
      "Try using .loc[row_indexer,col_indexer] = value instead\n",
      "\n",
      "See the caveats in the documentation: https://pandas.pydata.org/pandas-docs/stable/user_guide/indexing.html#returning-a-view-versus-a-copy\n",
      "  self.obj[item] = s\n",
      "/opt/conda/lib/python3.7/site-packages/ipykernel_launcher.py:8: SettingWithCopyWarning: \n",
      "A value is trying to be set on a copy of a slice from a DataFrame.\n",
      "Try using .loc[row_indexer,col_indexer] = value instead\n",
      "\n",
      "See the caveats in the documentation: https://pandas.pydata.org/pandas-docs/stable/user_guide/indexing.html#returning-a-view-versus-a-copy\n",
      "  \n",
      "/opt/conda/lib/python3.7/site-packages/pandas/core/indexing.py:966: SettingWithCopyWarning: \n",
      "A value is trying to be set on a copy of a slice from a DataFrame.\n",
      "Try using .loc[row_indexer,col_indexer] = value instead\n",
      "\n",
      "See the caveats in the documentation: https://pandas.pydata.org/pandas-docs/stable/user_guide/indexing.html#returning-a-view-versus-a-copy\n",
      "  self.obj[item] = s\n"
     ]
    }
   ],
   "source": [
    "from sklearn.preprocessing import StandardScaler\n",
    "scaler = StandardScaler()\n",
    "\n",
    "# 학습 데이터에 대해 스케일러를 맞추고 변환 적용\n",
    "train_set[num_vars] = scaler.fit_transform(train_set[num_vars])\n",
    "\n",
    "# 테스트 데이터는 같은 스케일러를 사용하여 변환만 적용\n",
    "test_set[num_vars] = scaler.transform(test_set[num_vars])\n"
   ]
  },
  {
   "cell_type": "code",
   "execution_count": 144,
   "metadata": {
    "execution": {
     "iopub.execute_input": "2024-11-09T06:27:53.879618Z",
     "iopub.status.busy": "2024-11-09T06:27:53.879347Z",
     "iopub.status.idle": "2024-11-09T06:27:54.065346Z",
     "shell.execute_reply": "2024-11-09T06:27:54.064593Z",
     "shell.execute_reply.started": "2024-11-09T06:27:53.879593Z"
    },
    "trusted": true
   },
   "outputs": [],
   "source": [
    "# Splitting the data into train and test\n",
    "X_train, X_test, y_train, y_test = train_test_split(train_set,train_set_target, train_size=0.7,test_size=0.3,random_state=100)"
   ]
  },
  {
   "cell_type": "code",
   "execution_count": 145,
   "metadata": {
    "execution": {
     "iopub.execute_input": "2024-11-09T06:27:54.066694Z",
     "iopub.status.busy": "2024-11-09T06:27:54.066419Z",
     "iopub.status.idle": "2024-11-09T06:27:54.074242Z",
     "shell.execute_reply": "2024-11-09T06:27:54.073323Z",
     "shell.execute_reply.started": "2024-11-09T06:27:54.066668Z"
    },
    "trusted": true
   },
   "outputs": [],
   "source": [
    "# lets create a dataframe to save model's performance\n",
    "model_df = pd.DataFrame(columns = [\"model_name\",\"training roc_auc\",\"test_roc_auc\"])"
   ]
  },
  {
   "cell_type": "code",
   "execution_count": 146,
   "metadata": {
    "execution": {
     "iopub.execute_input": "2024-11-09T06:27:54.075737Z",
     "iopub.status.busy": "2024-11-09T06:27:54.075424Z",
     "iopub.status.idle": "2024-11-09T06:27:54.084521Z",
     "shell.execute_reply": "2024-11-09T06:27:54.083790Z",
     "shell.execute_reply.started": "2024-11-09T06:27:54.075709Z"
    },
    "trusted": true
   },
   "outputs": [],
   "source": [
    "# Confusion matrix function\n",
    "def cm(pred,true):\n",
    "    confusion = metrics.confusion_matrix(pred, true)\n",
    "    print(confusion)\n",
    "    score = round(metrics.roc_auc_score(pred,true),2)\n",
    "    print(\"roc_auc score:\",score)\n",
    "    return(score)\n"
   ]
  },
  {
   "cell_type": "code",
   "execution_count": 147,
   "metadata": {
    "execution": {
     "iopub.execute_input": "2024-11-09T06:27:54.085930Z",
     "iopub.status.busy": "2024-11-09T06:27:54.085659Z",
     "iopub.status.idle": "2024-11-09T06:27:54.099396Z",
     "shell.execute_reply": "2024-11-09T06:27:54.098647Z",
     "shell.execute_reply.started": "2024-11-09T06:27:54.085896Z"
    },
    "trusted": true
   },
   "outputs": [],
   "source": [
    "col = X_train.columns"
   ]
  },
  {
   "cell_type": "markdown",
   "metadata": {},
   "source": [
    "# Logistic Regression - Default"
   ]
  },
  {
   "cell_type": "code",
   "execution_count": 148,
   "metadata": {
    "execution": {
     "iopub.execute_input": "2024-11-09T06:27:54.100835Z",
     "iopub.status.busy": "2024-11-09T06:27:54.100542Z",
     "iopub.status.idle": "2024-11-09T06:27:54.148939Z",
     "shell.execute_reply": "2024-11-09T06:27:54.148163Z",
     "shell.execute_reply.started": "2024-11-09T06:27:54.100796Z"
    },
    "trusted": true
   },
   "outputs": [],
   "source": [
    "X_train = X_train[col]\n",
    "\n",
    "X_test = X_test[col]"
   ]
  },
  {
   "cell_type": "code",
   "execution_count": 149,
   "metadata": {
    "execution": {
     "iopub.execute_input": "2024-11-09T06:27:54.150349Z",
     "iopub.status.busy": "2024-11-09T06:27:54.150082Z",
     "iopub.status.idle": "2024-11-09T06:29:02.267784Z",
     "shell.execute_reply": "2024-11-09T06:29:02.267015Z",
     "shell.execute_reply.started": "2024-11-09T06:27:54.150324Z"
    },
    "trusted": true
   },
   "outputs": [],
   "source": [
    "logModel = LogisticRegression(class_weight = \"balanced\",solver = \"saga\", max_iter=500)\n",
    "res = logModel.fit(X_train,y_train)"
   ]
  },
  {
   "cell_type": "code",
   "execution_count": 150,
   "metadata": {
    "execution": {
     "iopub.execute_input": "2024-11-09T06:29:02.269079Z",
     "iopub.status.busy": "2024-11-09T06:29:02.268784Z",
     "iopub.status.idle": "2024-11-09T06:29:02.476720Z",
     "shell.execute_reply": "2024-11-09T06:29:02.475750Z",
     "shell.execute_reply.started": "2024-11-09T06:29:02.269049Z"
    },
    "trusted": true
   },
   "outputs": [],
   "source": [
    "# make predictions\n",
    "y_train_pred_prob = res.predict_proba(X_train)\n",
    "y_train_pred = res.predict(X_train)\n",
    "\n",
    "y_test_pred_prob = res.predict_proba(X_test)\n",
    "y_test_pred = res.predict(X_test)"
   ]
  },
  {
   "cell_type": "code",
   "execution_count": 151,
   "metadata": {
    "execution": {
     "iopub.execute_input": "2024-11-09T06:29:02.478564Z",
     "iopub.status.busy": "2024-11-09T06:29:02.478176Z",
     "iopub.status.idle": "2024-11-09T06:29:03.461989Z",
     "shell.execute_reply": "2024-11-09T06:29:03.461182Z",
     "shell.execute_reply.started": "2024-11-09T06:29:02.478522Z"
    },
    "trusted": true
   },
   "outputs": [
    {
     "name": "stdout",
     "output_type": "stream",
     "text": [
      "training scores:\n",
      "[[224599  25946]\n",
      " [116679  52776]]\n",
      "roc_auc score: 0.6\n",
      "\n",
      "test scores:\n",
      "\n",
      "[[96589 11087]\n",
      " [49810 22514]]\n",
      "roc_auc score: 0.6\n"
     ]
    }
   ],
   "source": [
    "print(\"training scores:\")\n",
    "train_score = cm(y_train_pred,y_train)\n",
    "\n",
    "print(\"\\ntest scores:\\n\")\n",
    "test_score = cm(y_test_pred,y_test)\n",
    "\n",
    "model_df.loc[0] = [\"LogisticReg-Default\",train_score,test_score]"
   ]
  },
  {
   "cell_type": "code",
   "execution_count": 154,
   "metadata": {
    "execution": {
     "iopub.execute_input": "2024-11-09T06:36:55.853464Z",
     "iopub.status.busy": "2024-11-09T06:36:55.853117Z",
     "iopub.status.idle": "2024-11-09T06:36:56.947362Z",
     "shell.execute_reply": "2024-11-09T06:36:56.946353Z",
     "shell.execute_reply.started": "2024-11-09T06:36:55.853431Z"
    },
    "trusted": true
   },
   "outputs": [],
   "source": [
    "test_pred = res.predict(test_set)\n",
    "\n",
    "sub = pd.DataFrame()\n",
    "sub['Id'] = test_set_id\n",
    "sub['target'] = test_pred\n",
    "sub.to_csv('submission_ann.csv',index=False)"
   ]
  },
  {
   "cell_type": "code",
   "execution_count": 155,
   "metadata": {
    "execution": {
     "iopub.execute_input": "2024-11-09T06:37:06.555307Z",
     "iopub.status.busy": "2024-11-09T06:37:06.554956Z",
     "iopub.status.idle": "2024-11-09T06:37:06.559923Z",
     "shell.execute_reply": "2024-11-09T06:37:06.559214Z",
     "shell.execute_reply.started": "2024-11-09T06:37:06.555276Z"
    },
    "trusted": true
   },
   "outputs": [
    {
     "name": "stdout",
     "output_type": "stream",
     "text": [
      "400000\n",
      "400000\n"
     ]
    }
   ],
   "source": [
    "print(len(test_set_id))\n",
    "print(len(test_pred))"
   ]
  },
  {
   "attachments": {
    "image-2.png": {
     "image/png": "[encoded data removed]"
    },
    "image.png": {
     "image/png": "[encoded data removed]"
    }
   },
   "cell_type": "markdown",
   "metadata": {},
   "source": [
    "![image.png](attachment:image.png)\n",
    "![image-2.png](attachment:image-2.png)"
   ]
  }
 ],
 "metadata": {
  "kaggle": {
   "accelerator": "gpu",
   "dataSources": [
    {
     "databundleVersionId": 895292,
     "sourceId": 17000,
     "sourceType": "competition"
    }
   ],
   "dockerImageVersionId": 29987,
   "isGpuEnabled": true,
   "isInternetEnabled": true,
   "language": "python",
   "sourceType": "notebook"
  },
  "kernelspec": {
   "display_name": "Python 3",
   "language": "python",
   "name": "python3"
  },
  "language_info": {
   "codemirror_mode": {
    "name": "ipython",
    "version": 3
   },
   "file_extension": ".py",
   "mimetype": "text/x-python",
   "name": "python",
   "nbconvert_exporter": "python",
   "pygments_lexer": "ipython3",
   "version": "3.7.6"
  }
 },
 "nbformat": 4,
 "nbformat_minor": 4
}
